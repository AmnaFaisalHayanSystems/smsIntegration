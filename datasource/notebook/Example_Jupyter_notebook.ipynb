{
 "cells": [
  {
   "cell_type": "code",
   "execution_count": 1,
   "id": "ced5bac9",
   "metadata": {},
   "outputs": [],
   "source": [
    "# A script that's needed to setup django if it's not already running on a server.\n",
    "# Without this, you won't be able to import django modules\n",
    "import sys, os, django\n",
    "from django.conf import settings\n",
    "\n",
    "# Find the project base directory\n",
    "BASE_DIR = settings.BASE_DIR\n",
    "\n",
    "# Add the project base directory to the sys.path\n",
    "# This means the script will look in the base directory for any module imports\n",
    "# Therefore you'll be able to import analysis.models etc\n",
    "sys.path.insert(0, BASE_DIR)\n",
    "\n",
    "# The DJANGO_SETTINGS_MODULE has to be set to allow us to access django imports\n",
    "os.environ.setdefault(\"DJANGO_SETTINGS_MODULE\", \"eq.settings\")\n",
    "\n",
    "#  Allow queryset filtering asynchronously when running in a Jupyter notebook\n",
    "os.environ[\"DJANGO_ALLOW_ASYNC_UNSAFE\"] = \"true\"\n",
    "\n",
    "# This is for setting up django\n",
    "django.setup()"
   ]
  },
  {
   "cell_type": "code",
   "execution_count": 2,
   "id": "432eceb8",
   "metadata": {},
   "outputs": [],
   "source": [
    "from miscellaneous.utils import Twitter"
   ]
  },
  {
   "cell_type": "code",
   "execution_count": 3,
   "id": "dfbb9301",
   "metadata": {},
   "outputs": [],
   "source": [
    "response = Twitter.fetch_tweets()"
   ]
  },
  {
   "cell_type": "code",
   "execution_count": 4,
   "id": "2ad4193f",
   "metadata": {},
   "outputs": [
    {
     "data": {
      "text/plain": [
       "True"
      ]
     },
     "execution_count": 4,
     "metadata": {},
     "output_type": "execute_result"
    }
   ],
   "source": [
    "response.get_tag_data(\"امپورٹڈ_حکومت_نامنظور\")"
   ]
  },
  {
   "cell_type": "code",
   "execution_count": null,
   "id": "47017ca7",
   "metadata": {},
   "outputs": [],
   "source": []
  },
  {
   "cell_type": "code",
   "execution_count": null,
   "id": "4482a83e",
   "metadata": {},
   "outputs": [],
   "source": []
  },
  {
   "cell_type": "code",
   "execution_count": null,
   "id": "ab98e544",
   "metadata": {},
   "outputs": [],
   "source": []
  },
  {
   "cell_type": "code",
   "execution_count": null,
   "id": "4da1a53e",
   "metadata": {},
   "outputs": [],
   "source": []
  }
 ],
 "metadata": {
  "kernelspec": {
   "display_name": "Django Shell-Plus",
   "language": "python",
   "name": "django_extensions"
  },
  "language_info": {
   "codemirror_mode": {
    "name": "ipython",
    "version": 3
   },
   "file_extension": ".py",
   "mimetype": "text/x-python",
   "name": "python",
   "nbconvert_exporter": "python",
   "pygments_lexer": "ipython3",
   "version": "3.8.10"
  }
 },
 "nbformat": 4,
 "nbformat_minor": 5
}
